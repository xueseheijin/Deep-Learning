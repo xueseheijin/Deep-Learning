{
  "nbformat": 4,
  "nbformat_minor": 0,
  "metadata": {
    "colab": {
      "provenance": []
    },
    "kernelspec": {
      "name": "python3",
      "display_name": "Python 3"
    },
    "language_info": {
      "name": "python"
    }
  },
  "cells": [
    {
      "cell_type": "markdown",
      "source": [
        "### UAV Object Detection using transfer learning"
      ],
      "metadata": {
        "id": "L2dURuGVIU6o"
      }
    },
    {
      "cell_type": "code",
      "source": [
        "# from google.colab import drive\n",
        "# drive.mount('/content/drive')"
      ],
      "metadata": {
        "id": "poV8FSoaXUWe"
      },
      "execution_count": null,
      "outputs": []
    },
    {
      "cell_type": "code",
      "source": [
        "!unzip \"/content/6334174_1250518454_1781675777023.zip\" -d '/content/dataset'"
      ],
      "metadata": {
        "id": "95cjL9hrXWk0"
      },
      "execution_count": null,
      "outputs": []
    },
    {
      "cell_type": "code",
      "source": [
        "!unzip \"/content/6334176_1733589470_6221675777024.zip\" -d '/content/dataset'"
      ],
      "metadata": {
        "id": "zi3BuOHfdLld"
      },
      "execution_count": null,
      "outputs": []
    },
    {
      "cell_type": "code",
      "execution_count": 3,
      "metadata": {
        "id": "X9gy5IVuGtC2"
      },
      "outputs": [],
      "source": [
        "import os, time, random\n",
        "import numpy as np\n",
        "import pandas as pd\n",
        "import cv2, torch\n",
        "from tqdm.auto import tqdm\n",
        "import shutil as sh\n",
        "from IPython.display import Image, clear_output\n",
        "import matplotlib.pyplot as plt\n",
        "%matplotlib inline"
      ]
    },
    {
      "cell_type": "code",
      "source": [
        "import os \n",
        "import numpy as np \n",
        "import glob\n",
        "\n",
        "path = 'content/images/'\n",
        "path2 = \"content/label/\" \n",
        "os.getcwd()\n",
        "os.chdir(path)\n",
        "files = [f for f in glob.glob( \"**/*.jpg\", recursive=True)]\n",
        "b = open(\"petler.txt\",\"w\") # you can change the name of petler.txt like what you want to give\n",
        "\n",
        "for f in files:\n",
        "    print(f.strip('.jpg'))\n",
        "    \n",
        "    a = open(f.strip('.jpg') +\".txt\",\"w\")\n",
        "    b.write(path2+f+\"\\n\")"
      ],
      "metadata": {
        "id": "m45KmgeIQYnN"
      },
      "execution_count": null,
      "outputs": []
    },
    {
      "cell_type": "code",
      "source": [
        "!git clone https://github.com/ultralytics/yolov5  # clone repo\n",
        "%cd yolov5\n",
        "%pip install -qr requirements.txt  # install dependencies\n",
        "\n",
        "import torch\n",
        "from IPython.display import Image, clear_output  # to display images\n",
        "\n",
        "clear_output()\n",
        "print(f\"Setup complete. Using torch {torch.__version__} ({torch.cuda.get_device_properties(0).name if torch.cuda.is_available() else 'CPU'})\")\n",
        "     "
      ],
      "metadata": {
        "id": "5YduVTCVQhNT"
      },
      "execution_count": null,
      "outputs": []
    },
    {
      "cell_type": "code",
      "source": [
        "!python train.py --img 640 --batch 20 --epochs 15 --data /content/dataset/{\"YOUR YAML FILE\"} --weights /content/drive/{\"YOUR WEIGHTS File\"} --project /content/drive/{\"OUTPUT DIRECTORY\"} \n"
      ],
      "metadata": {
        "id": "ZNPiSVy0Qrjg"
      },
      "execution_count": null,
      "outputs": []
    },
    {
      "cell_type": "markdown",
      "source": [
        "#### Testing the model"
      ],
      "metadata": {
        "id": "iqmDQTPCQuzI"
      }
    },
    {
      "cell_type": "code",
      "source": [
        "!python detect.py --weights /content/drive/{\"TRAINED WEIGHTS PATH\"}  --img 640 --conf 0.20 --source /content/drive/{\"MP4/IMAGE FILE TO TEST ON\"} --iou-thres 0.40\n"
      ],
      "metadata": {
        "id": "6HayngUwQwgm"
      },
      "execution_count": null,
      "outputs": []
    }
  ]
}